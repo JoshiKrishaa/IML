{
 "cells": [
  {
   "cell_type": "markdown",
   "id": "6d18abe1",
   "metadata": {
    "papermill": {
     "duration": 0.001964,
     "end_time": "2023-11-05T07:10:47.490222",
     "exception": false,
     "start_time": "2023-11-05T07:10:47.488258",
     "status": "completed"
    },
    "tags": []
   },
   "source": [
    "### "
   ]
  },
  {
   "cell_type": "code",
   "execution_count": 1,
   "id": "487bd667",
   "metadata": {
    "_cell_guid": "b1076dfc-b9ad-4769-8c92-a6c4dae69d19",
    "_uuid": "8f2839f25d086af736a60e9eeb907d3b93b6e0e5",
    "execution": {
     "iopub.execute_input": "2023-11-05T07:10:47.494896Z",
     "iopub.status.busy": "2023-11-05T07:10:47.494546Z",
     "iopub.status.idle": "2023-11-05T07:10:49.443974Z",
     "shell.execute_reply": "2023-11-05T07:10:49.441712Z"
    },
    "papermill": {
     "duration": 1.954475,
     "end_time": "2023-11-05T07:10:49.446329",
     "exception": false,
     "start_time": "2023-11-05T07:10:47.491854",
     "status": "completed"
    },
    "tags": []
   },
   "outputs": [
    {
     "name": "stdout",
     "output_type": "stream",
     "text": [
      "Shape is : (5124, 7) \n",
      "\n",
      "Info is\n",
      " <bound method DataFrame.info of             Date       Open       High        Low      Close  Adj Close  \\\n",
      "0     1999-11-18  32.546494  35.765381  28.612303  31.473534  27.068665   \n",
      "1     1999-11-19  30.713520  30.758226  28.478184  28.880543  24.838577   \n",
      "2     1999-11-22  29.551144  31.473534  28.657009  31.473534  27.068665   \n",
      "3     1999-11-23  30.400572  31.205294  28.612303  28.612303  24.607880   \n",
      "4     1999-11-24  28.701717  29.998211  28.612303  29.372318  25.261524   \n",
      "...          ...        ...        ...        ...        ...        ...   \n",
      "5119  2020-03-26  70.000000  74.449997  69.650002  73.720001  73.532867   \n",
      "5120  2020-03-27  71.550003  73.209999  70.279999  70.910004  70.730003   \n",
      "5121  2020-03-30  71.059998  73.180000  71.059998  72.669998  72.669998   \n",
      "5122  2020-03-31  72.339996  72.800003  70.500000  71.620003  71.620003   \n",
      "5123  2020-04-01  69.470001  70.230003  68.150002  68.919998  68.919998   \n",
      "\n",
      "        Volume  \n",
      "0     62546300  \n",
      "1     15234100  \n",
      "2      6577800  \n",
      "3      5975600  \n",
      "4      4843200  \n",
      "...        ...  \n",
      "5119   3267500  \n",
      "5120   1829800  \n",
      "5121   1486200  \n",
      "5122   1822100  \n",
      "5123   2173600  \n",
      "\n",
      "[5124 rows x 7 columns]> \n",
      "\n",
      "Describing Data\n",
      "               Open         High          Low        Close    Adj Close  \\\n",
      "count  5124.000000  5124.000000  5124.000000  5124.000000  5124.000000   \n",
      "mean     34.090255    34.560553    33.629467    34.106245    31.778674   \n",
      "std      18.608831    18.834528    18.381718    18.611595    18.730529   \n",
      "min       7.653791     7.961373     7.510730     7.761087     6.674886   \n",
      "25%      21.101574    21.452074    20.785050    21.130186    18.790381   \n",
      "50%      27.328326    27.703863    27.010015    27.396280    24.714866   \n",
      "75%      41.500000    41.860001    41.130001    41.525204    39.203083   \n",
      "max     111.587982   115.879829   103.719597   113.733902    97.816307   \n",
      "\n",
      "             Volume  \n",
      "count  5.124000e+03  \n",
      "mean   3.693250e+06  \n",
      "std    2.481855e+06  \n",
      "min    2.719000e+05  \n",
      "25%    2.206475e+06  \n",
      "50%    3.174050e+06  \n",
      "75%    4.508075e+06  \n",
      "max    6.254630e+07   \n",
      "\n",
      "Any null values\n",
      " Date         0\n",
      "Open         0\n",
      "High         0\n",
      "Low          0\n",
      "Close        0\n",
      "Adj Close    0\n",
      "Volume       0\n",
      "dtype: int64 \n",
      "\n",
      "Accuracy :  0.0\n"
     ]
    }
   ],
   "source": [
    "# Write a Python program to implement K-Nearest Neighbour supervised machine learning algorithm for given dataset.\n",
    "#Krishaa joshi\n",
    "#216270307047\n",
    "import pandas as pd\n",
    "from sklearn.model_selection import train_test_split\n",
    "from sklearn.neighbors import KNeighborsClassifier\n",
    "\n",
    "df=pd.read_csv('/kaggle/input/stock-market-dataset/stocks/A.csv')\n",
    "df.head()\n",
    "print (\"Shape is :\",df.shape,\"\\n\") # Printing shape (rows,columns)\n",
    "print(\"Info is\\n\",df.info,\"\\n\")\n",
    "print(\"Describing Data\\n\",df.describe(),\"\\n\")\n",
    "print(\"Any null values\\n\",df.isnull().sum(),\"\\n\")\n",
    "X=df.iloc[:,1:4]\n",
    "X=pd.get_dummies(X)\n",
    "X=X.values\n",
    "Y=df.iloc[:,-1].values\n",
    "x_train,x_test,y_train,y_test=train_test_split(X,Y,train_size=0.75,test_size=0.25,random_state=42)\n",
    "model1=KNeighborsClassifier()\n",
    "model1.fit(x_train,y_train)\n",
    "print(\"Accuracy : \",model1.score(x_test,y_test) * 100)"
   ]
  }
 ],
 "metadata": {
  "kernelspec": {
   "display_name": "Python 3",
   "language": "python",
   "name": "python3"
  },
  "language_info": {
   "codemirror_mode": {
    "name": "ipython",
    "version": 3
   },
   "file_extension": ".py",
   "mimetype": "text/x-python",
   "name": "python",
   "nbconvert_exporter": "python",
   "pygments_lexer": "ipython3",
   "version": "3.10.12"
  },
  "papermill": {
   "default_parameters": {},
   "duration": 5.614115,
   "end_time": "2023-11-05T07:10:49.966870",
   "environment_variables": {},
   "exception": null,
   "input_path": "__notebook__.ipynb",
   "output_path": "__notebook__.ipynb",
   "parameters": {},
   "start_time": "2023-11-05T07:10:44.352755",
   "version": "2.4.0"
  }
 },
 "nbformat": 4,
 "nbformat_minor": 5
}
