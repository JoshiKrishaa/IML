{
 "cells": [
  {
   "cell_type": "markdown",
   "id": "39b33465",
   "metadata": {
    "papermill": {
     "duration": 0.002925,
     "end_time": "2023-11-05T07:06:54.641194",
     "exception": false,
     "start_time": "2023-11-05T07:06:54.638269",
     "status": "completed"
    },
    "tags": []
   },
   "source": []
  },
  {
   "cell_type": "code",
   "execution_count": 1,
   "id": "efe9237c",
   "metadata": {
    "execution": {
     "iopub.execute_input": "2023-11-05T07:06:54.649824Z",
     "iopub.status.busy": "2023-11-05T07:06:54.648857Z",
     "iopub.status.idle": "2023-11-05T07:06:55.237864Z",
     "shell.execute_reply": "2023-11-05T07:06:55.236447Z"
    },
    "papermill": {
     "duration": 0.59869,
     "end_time": "2023-11-05T07:06:55.242939",
     "exception": false,
     "start_time": "2023-11-05T07:06:54.644249",
     "status": "completed"
    },
    "tags": []
   },
   "outputs": [
    {
     "name": "stdout",
     "output_type": "stream",
     "text": [
      "\n",
      "Columns with all entries present (no NaN):\n",
      "     PassengerId  Survived  Pclass  \\\n",
      "0            892         0       3   \n",
      "1            893         1       3   \n",
      "2            894         0       2   \n",
      "3            895         0       3   \n",
      "4            896         1       3   \n",
      "..           ...       ...     ...   \n",
      "413         1305         0       3   \n",
      "414         1306         1       1   \n",
      "415         1307         0       3   \n",
      "416         1308         0       3   \n",
      "417         1309         0       3   \n",
      "\n",
      "                                             Name     Sex  SibSp  Parch  \\\n",
      "0                                Kelly, Mr. James    male      0      0   \n",
      "1                Wilkes, Mrs. James (Ellen Needs)  female      1      0   \n",
      "2                       Myles, Mr. Thomas Francis    male      0      0   \n",
      "3                                Wirz, Mr. Albert    male      0      0   \n",
      "4    Hirvonen, Mrs. Alexander (Helga E Lindqvist)  female      1      1   \n",
      "..                                            ...     ...    ...    ...   \n",
      "413                            Spector, Mr. Woolf    male      0      0   \n",
      "414                  Oliva y Ocana, Dona. Fermina  female      0      0   \n",
      "415                  Saether, Mr. Simon Sivertsen    male      0      0   \n",
      "416                           Ware, Mr. Frederick    male      0      0   \n",
      "417                      Peter, Master. Michael J    male      1      1   \n",
      "\n",
      "                 Ticket Embarked  \n",
      "0                330911        Q  \n",
      "1                363272        S  \n",
      "2                240276        Q  \n",
      "3                315154        S  \n",
      "4               3101298        S  \n",
      "..                  ...      ...  \n",
      "413           A.5. 3236        S  \n",
      "414            PC 17758        C  \n",
      "415  SOTON/O.Q. 3101262        S  \n",
      "416              359309        S  \n",
      "417                2668        C  \n",
      "\n",
      "[418 rows x 9 columns]\n",
      "Total rows after dropping NaN: 87\n"
     ]
    }
   ],
   "source": [
    "#Write a Pandas program to filter all columns where all entries present,check which rows and columns has a NaN and finally drop rows with anyNaNs from the given dataset.\n",
    "#Krishaa joshi\n",
    "#216270307047\n",
    "import pandas as pd\n",
    "\n",
    "data=pd.read_csv('/kaggle/input/test-file/tested.csv')\n",
    "df = pd.DataFrame(data)\n",
    "\n",
    "\n",
    "df_filtered = df.dropna(axis=1, how='any')\n",
    "\n",
    "print(\"\\nColumns with all entries present (no NaN):\")\n",
    "print(df_filtered)\n",
    "\n",
    "rows_with_nan = df[df.isna().any(axis=1)]\n",
    "columns_with_nan = df.columns[df.isna().any()]\n",
    "\n",
    "#print(\"\\nRows with NaN values:\")\n",
    "#print(rows_with_nan)\n",
    "\n",
    "#print(\"\\nColumns with NaN values:\")\n",
    "#print(columns_with_nan)\n",
    "\n",
    "df_no_na_rows = df.dropna(axis=0, how='any')\n",
    "\n",
    "print(f\"Total rows after dropping NaN: {len(df_no_na_rows)}\")\n"
   ]
  },
  {
   "cell_type": "raw",
   "id": "2eef2ef0",
   "metadata": {
    "_cell_guid": "b1076dfc-b9ad-4769-8c92-a6c4dae69d19",
    "_uuid": "8f2839f25d086af736a60e9eeb907d3b93b6e0e5",
    "papermill": {
     "duration": 0.001983,
     "end_time": "2023-11-05T07:06:55.247417",
     "exception": false,
     "start_time": "2023-11-05T07:06:55.245434",
     "status": "completed"
    },
    "tags": []
   },
   "source": []
  }
 ],
 "metadata": {
  "kernelspec": {
   "display_name": "Python 3",
   "language": "python",
   "name": "python3"
  },
  "language_info": {
   "codemirror_mode": {
    "name": "ipython",
    "version": 3
   },
   "file_extension": ".py",
   "mimetype": "text/x-python",
   "name": "python",
   "nbconvert_exporter": "python",
   "pygments_lexer": "ipython3",
   "version": "3.10.12"
  },
  "papermill": {
   "default_parameters": {},
   "duration": 7.770713,
   "end_time": "2023-11-05T07:06:58.069300",
   "environment_variables": {},
   "exception": null,
   "input_path": "__notebook__.ipynb",
   "output_path": "__notebook__.ipynb",
   "parameters": {},
   "start_time": "2023-11-05T07:06:50.298587",
   "version": "2.4.0"
  }
 },
 "nbformat": 4,
 "nbformat_minor": 5
}
