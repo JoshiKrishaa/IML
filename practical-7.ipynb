{
 "cells": [
  {
   "cell_type": "code",
   "execution_count": 1,
   "id": "eb67886e",
   "metadata": {
    "_cell_guid": "b1076dfc-b9ad-4769-8c92-a6c4dae69d19",
    "_uuid": "8f2839f25d086af736a60e9eeb907d3b93b6e0e5",
    "execution": {
     "iopub.execute_input": "2023-11-05T06:58:34.303988Z",
     "iopub.status.busy": "2023-11-05T06:58:34.303237Z",
     "iopub.status.idle": "2023-11-05T06:58:34.744360Z",
     "shell.execute_reply": "2023-11-05T06:58:34.743002Z"
    },
    "papermill": {
     "duration": 0.449268,
     "end_time": "2023-11-05T06:58:34.747712",
     "exception": false,
     "start_time": "2023-11-05T06:58:34.298444",
     "status": "completed"
    },
    "tags": []
   },
   "outputs": [
    {
     "name": "stdout",
     "output_type": "stream",
     "text": [
      "[{'name': 'xyz', 'age': 18}, {'name': 'abc', 'age': 18}]\n",
      "  name  age\n",
      "0  xyz   18\n",
      "1  abc   18\n"
     ]
    }
   ],
   "source": [
    "#Write a Pandas program to implement following operation\n",
    "#to create a dataframe from a dictionary and display it\n",
    "#Krishaa Joshi\n",
    "#216270307047\n",
    "\n",
    "import pandas as pd\n",
    "\n",
    "people=[{'name':\"xyz\",'age':18},\n",
    "       {'name':\"abc\",'age':18}\n",
    "       ]\n",
    "print(people)\n",
    "df=pd.DataFrame(people)\n",
    "print(df)\n"
   ]
  },
  {
   "cell_type": "code",
   "execution_count": 2,
   "id": "9cfa7b60",
   "metadata": {
    "execution": {
     "iopub.execute_input": "2023-11-05T06:58:34.758097Z",
     "iopub.status.busy": "2023-11-05T06:58:34.757277Z",
     "iopub.status.idle": "2023-11-05T06:58:34.777234Z",
     "shell.execute_reply": "2023-11-05T06:58:34.776352Z"
    },
    "papermill": {
     "duration": 0.026991,
     "end_time": "2023-11-05T06:58:34.780056",
     "exception": false,
     "start_time": "2023-11-05T06:58:34.753065",
     "status": "completed"
    },
    "tags": []
   },
   "outputs": [
    {
     "name": "stdout",
     "output_type": "stream",
     "text": [
      "dataframe\n",
      "       name  age\n",
      "0  krishaa   18\n",
      "1   vishwa   12\n",
      "2   niyati   21\n",
      "\n",
      "sorting using name\n",
      "       name  age\n",
      "0  krishaa   18\n",
      "2   niyati   21\n",
      "1   vishwa   12\n"
     ]
    }
   ],
   "source": [
    "#Write a Pandas program to implement following operation\n",
    "#to sort the DataFrame first by 'name' in ascending order\n",
    "#Krishaa Joshi\n",
    "#216270307047\n",
    "\n",
    "import pandas as pd\n",
    "\n",
    "people=[{'name':\"krishaa\",'age':18},\n",
    "      {'name':\"vishwa\",'age':12},\n",
    "      {'name':\"niyati\",'age':21}]\n",
    "df=pd.DataFrame(people)\n",
    "print(\"dataframe\\n\",df)\n",
    "print(\"\\nsorting using name\\n\",df.sort_values('name'))"
   ]
  },
  {
   "cell_type": "code",
   "execution_count": 3,
   "id": "48af60b4",
   "metadata": {
    "execution": {
     "iopub.execute_input": "2023-11-05T06:58:34.788188Z",
     "iopub.status.busy": "2023-11-05T06:58:34.787039Z",
     "iopub.status.idle": "2023-11-05T06:58:34.800757Z",
     "shell.execute_reply": "2023-11-05T06:58:34.799409Z"
    },
    "papermill": {
     "duration": 0.020509,
     "end_time": "2023-11-05T06:58:34.803471",
     "exception": false,
     "start_time": "2023-11-05T06:58:34.782962",
     "status": "completed"
    },
    "tags": []
   },
   "outputs": [
    {
     "name": "stdout",
     "output_type": "stream",
     "text": [
      "After deleting age\n",
      "\n",
      "       name\n",
      "0  krishaa\n",
      "1   vishwa\n",
      "2   niyati\n"
     ]
    }
   ],
   "source": [
    "#To delete the specific column from the dataframe \n",
    "#Krishaa Joshi\n",
    "#216270307047\n",
    "\n",
    "import pandas as pd\n",
    "\n",
    "people=[{'name':\"krishaa\",'age':18},\n",
    "      {'name':\"vishwa\",'age':12},\n",
    "      {'name':\"niyati\",'age':21}]\n",
    "df=pd.DataFrame(people)\n",
    "df1=df.drop('age',axis=1)\n",
    "print(\"After deleting age\\n\\n\",df1)"
   ]
  },
  {
   "cell_type": "code",
   "execution_count": 4,
   "id": "c3ba0b85",
   "metadata": {
    "execution": {
     "iopub.execute_input": "2023-11-05T06:58:34.811512Z",
     "iopub.status.busy": "2023-11-05T06:58:34.811137Z",
     "iopub.status.idle": "2023-11-05T06:58:34.834647Z",
     "shell.execute_reply": "2023-11-05T06:58:34.833374Z"
    },
    "papermill": {
     "duration": 0.030937,
     "end_time": "2023-11-05T06:58:34.837474",
     "exception": false,
     "start_time": "2023-11-05T06:58:34.806537",
     "status": "completed"
    },
    "tags": []
   },
   "outputs": [
    {
     "name": "stdout",
     "output_type": "stream",
     "text": [
      "Original DataFrame is \n",
      "\n",
      "        1        2          3         4       5         6       7\n",
      "0  Monday  Tuesday  Wednesday  Thursday  Friday  Saturday  Sunday\n",
      "\n",
      "Datafrom days.csv is \n",
      "\n",
      "                               \\t1\\t2\\t3\\t4\\t5\\t6\\t7\n",
      "0  0\\tMonday\\tTuesday\\tWednesday\\tThursday\\tFrida...\n"
     ]
    }
   ],
   "source": [
    "#To write a dataframe to csv file using tab separator\n",
    "#Krishaa Joshi\n",
    "#216270307047\n",
    "\n",
    "import pandas as pd\n",
    "\n",
    "days=[{\"1\":\"Monday\",\"2\":\"Tuesday\",\"3\":\"Wednesday\",\"4\":\"Thursday\",\"5\":\"Friday\",\"6\":\"Saturday\",\"7\":\"Sunday\"}]\n",
    "df=pd.DataFrame(data=days)\n",
    "print(\"Original DataFrame is \\n\")\n",
    "print(df)\n",
    "df.to_csv('days.csv',sep='\\t')\n",
    "print(\"\\nDatafrom days.csv is \\n\")\n",
    "rd_df=pd.read_csv('days.csv')\n",
    "print(rd_df)"
   ]
  }
 ],
 "metadata": {
  "kernelspec": {
   "display_name": "Python 3",
   "language": "python",
   "name": "python3"
  },
  "language_info": {
   "codemirror_mode": {
    "name": "ipython",
    "version": 3
   },
   "file_extension": ".py",
   "mimetype": "text/x-python",
   "name": "python",
   "nbconvert_exporter": "python",
   "pygments_lexer": "ipython3",
   "version": "3.10.12"
  },
  "papermill": {
   "default_parameters": {},
   "duration": 4.836257,
   "end_time": "2023-11-05T06:58:35.361149",
   "environment_variables": {},
   "exception": null,
   "input_path": "__notebook__.ipynb",
   "output_path": "__notebook__.ipynb",
   "parameters": {},
   "start_time": "2023-11-05T06:58:30.524892",
   "version": "2.4.0"
  }
 },
 "nbformat": 4,
 "nbformat_minor": 5
}
