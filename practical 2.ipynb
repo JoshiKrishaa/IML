{
 "cells": [
  {
   "cell_type": "code",
   "execution_count": 1,
   "id": "eaa6b57b",
   "metadata": {
    "_cell_guid": "b1076dfc-b9ad-4769-8c92-a6c4dae69d19",
    "_uuid": "8f2839f25d086af736a60e9eeb907d3b93b6e0e5",
    "execution": {
     "iopub.execute_input": "2023-09-05T10:24:24.698686Z",
     "iopub.status.busy": "2023-09-05T10:24:24.698285Z",
     "iopub.status.idle": "2023-09-05T10:24:24.710571Z",
     "shell.execute_reply": "2023-09-05T10:24:24.709308Z"
    },
    "papermill": {
     "duration": 0.021245,
     "end_time": "2023-09-05T10:24:24.713782",
     "exception": false,
     "start_time": "2023-09-05T10:24:24.692537",
     "status": "completed"
    },
    "tags": []
   },
   "outputs": [
    {
     "name": "stdout",
     "output_type": "stream",
     "text": [
      "hello\n"
     ]
    }
   ],
   "source": [
    "print('hello')"
   ]
  },
  {
   "cell_type": "code",
   "execution_count": null,
   "id": "e33a9923",
   "metadata": {
    "papermill": {
     "duration": 0.003007,
     "end_time": "2023-09-05T10:24:24.720066",
     "exception": false,
     "start_time": "2023-09-05T10:24:24.717059",
     "status": "completed"
    },
    "tags": []
   },
   "outputs": [],
   "source": []
  }
 ],
 "kernelspec": {
  "display_name": "Python 3",
  "language": "python",
  "name": "python3"
 },
 "language_info": {
  "codemirror_mode": {
   "name": "ipython",
   "version": 3
  },
  "file_extension": ".py",
  "mimetype": "text/x-python",
  "name": "python",
  "nbconvert_exporter": "python",
  "pygments_lexer": "ipython3",
  "version": "3.6.4"
 },
 "metadata": {
  "kernelspec": {
   "display_name": "Python 3",
   "language": "python",
   "name": "python3"
  },
  "language_info": {
   "codemirror_mode": {
    "name": "ipython",
    "version": 3
   },
   "file_extension": ".py",
   "mimetype": "text/x-python",
   "name": "python",
   "nbconvert_exporter": "python",
   "pygments_lexer": "ipython3",
   "version": "3.10.12"
  },
  "papermill": {
   "default_parameters": {},
   "duration": 4.143515,
   "end_time": "2023-09-05T10:24:25.144183",
   "environment_variables": {},
   "exception": null,
   "input_path": "__notebook__.ipynb",
   "output_path": "__notebook__.ipynb",
   "parameters": {},
   "start_time": "2023-09-05T10:24:21.000668",
   "version": "2.4.0"
  }
 },
 "nbformat": 4,
 "nbformat_minor": 5
}
