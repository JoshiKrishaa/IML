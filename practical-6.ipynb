{
 "cells": [
  {
   "cell_type": "code",
   "execution_count": 1,
   "id": "716586aa",
   "metadata": {
    "_cell_guid": "b1076dfc-b9ad-4769-8c92-a6c4dae69d19",
    "_uuid": "8f2839f25d086af736a60e9eeb907d3b93b6e0e5",
    "execution": {
     "iopub.execute_input": "2023-11-05T06:49:22.454470Z",
     "iopub.status.busy": "2023-11-05T06:49:22.453874Z",
     "iopub.status.idle": "2023-11-05T06:49:22.880292Z",
     "shell.execute_reply": "2023-11-05T06:49:22.879360Z"
    },
    "papermill": {
     "duration": 0.434003,
     "end_time": "2023-11-05T06:49:22.882639",
     "exception": false,
     "start_time": "2023-11-05T06:49:22.448636",
     "status": "completed"
    },
    "tags": []
   },
   "outputs": [
    {
     "name": "stdout",
     "output_type": "stream",
     "text": [
      "0    1\n",
      "1    2\n",
      "2    3\n",
      "3    4\n",
      "4    5\n",
      "dtype: int64\n"
     ]
    }
   ],
   "source": [
    "#Write a Pandas program to implement following operation\n",
    "#to convert a NumPy array to a Pandas series\n",
    "#Krishaa Joshi\n",
    "#216270307047\n",
    "import numpy as np\n",
    "import pandas as pd\n",
    "arr1=np.array([1,2,3,4,5])\n",
    "arr2=pd.Series(arr1)\n",
    "print(arr2)"
   ]
  },
  {
   "cell_type": "code",
   "execution_count": 2,
   "id": "2ae03af9",
   "metadata": {
    "execution": {
     "iopub.execute_input": "2023-11-05T06:49:22.892082Z",
     "iopub.status.busy": "2023-11-05T06:49:22.891529Z",
     "iopub.status.idle": "2023-11-05T06:49:22.910409Z",
     "shell.execute_reply": "2023-11-05T06:49:22.909264Z"
    },
    "papermill": {
     "duration": 0.02572,
     "end_time": "2023-11-05T06:49:22.913067",
     "exception": false,
     "start_time": "2023-11-05T06:49:22.887347",
     "status": "completed"
    },
    "tags": []
   },
   "outputs": [
    {
     "name": "stdout",
     "output_type": "stream",
     "text": [
      "DF    col1  col2  col3\n",
      "0     1     2     3\n",
      "1     4     5     6\n",
      "2     7     8     9\n",
      "3    10    11    12\n",
      "\n",
      "1st column as a Series: 0     1\n",
      "1     4\n",
      "2     7\n",
      "3    10\n",
      "Name: col1, dtype: int64\n"
     ]
    }
   ],
   "source": [
    "#Write a Pandas program to implement following operation\n",
    "#to convert the first column of a DataFrame as a Series\n",
    "#Krishaa Joshi\n",
    "#216270307047\n",
    "\n",
    "import pandas as pd\n",
    "\n",
    "a = {'col1': [1, 4, 7, 10], 'col2': [2, 5, 8,11], 'col3': [3, 6, 9, 12]}\n",
    "df = pd.DataFrame(data=a)\n",
    "print(\"DF\",df)\n",
    "s1 = df.iloc[:,0]\n",
    "print(\"\\n1st column as a Series:\",s1)\n"
   ]
  },
  {
   "cell_type": "code",
   "execution_count": 3,
   "id": "ffe8c87a",
   "metadata": {
    "execution": {
     "iopub.execute_input": "2023-11-05T06:49:22.920063Z",
     "iopub.status.busy": "2023-11-05T06:49:22.919673Z",
     "iopub.status.idle": "2023-11-05T06:49:22.929231Z",
     "shell.execute_reply": "2023-11-05T06:49:22.928165Z"
    },
    "papermill": {
     "duration": 0.016182,
     "end_time": "2023-11-05T06:49:22.932046",
     "exception": false,
     "start_time": "2023-11-05T06:49:22.915864",
     "status": "completed"
    },
    "tags": []
   },
   "outputs": [
    {
     "name": "stdout",
     "output_type": "stream",
     "text": [
      "original series\n",
      " 0     1\n",
      "1     2\n",
      "2     4\n",
      "3     6\n",
      "4     8\n",
      "5    10\n",
      "dtype: int64\n",
      "Mean of above series 5.166666666666667\n",
      "\n",
      " Standard deviation 3.488074922742725\n"
     ]
    }
   ],
   "source": [
    "#Write a Pandas program to implement following operation\n",
    "#to create the mean and standard deviation of the data of a given Series\n",
    "#Krishaa Joshi\n",
    "#216270307047\n",
    "import pandas as pd\n",
    "\n",
    "a=[1,2,4,6,8,10]\n",
    "se=pd.Series(a)\n",
    "print(\"original series\\n\",se)\n",
    "\n",
    "print(\"Mean of above series\",se.mean())\n",
    "print(\"\\n Standard deviation\",se.std())\n"
   ]
  },
  {
   "cell_type": "code",
   "execution_count": 4,
   "id": "c2da60e1",
   "metadata": {
    "execution": {
     "iopub.execute_input": "2023-11-05T06:49:22.940016Z",
     "iopub.status.busy": "2023-11-05T06:49:22.938939Z",
     "iopub.status.idle": "2023-11-05T06:49:22.950334Z",
     "shell.execute_reply": "2023-11-05T06:49:22.948995Z"
    },
    "papermill": {
     "duration": 0.017933,
     "end_time": "2023-11-05T06:49:22.952819",
     "exception": false,
     "start_time": "2023-11-05T06:49:22.934886",
     "status": "completed"
    },
    "tags": []
   },
   "outputs": [
    {
     "name": "stdout",
     "output_type": "stream",
     "text": [
      "Before sorting:\n",
      "\n",
      " 0       red\n",
      "1     white\n",
      "2    yellow\n",
      "3      pink\n",
      "dtype: object\n",
      "\n",
      " After sorting:\n",
      "\n",
      " 3      pink\n",
      "0       red\n",
      "1     white\n",
      "2    yellow\n",
      "dtype: object\n"
     ]
    }
   ],
   "source": [
    "#Write a Pandas program to implement following operation\n",
    "#to sort a given series\n",
    "#Krishaa Joshi\n",
    "#216270307047\n",
    "\n",
    "import pandas as pd\n",
    "\n",
    "color=[\"red\",\"white\",\"yellow\",\"pink\"]\n",
    "colors=pd.Series(color)\n",
    "\n",
    "print(\"Before sorting:\\n\\n\",colors)\n",
    "print(\"\\n After sorting:\\n\\n\",colors.sort_values())"
   ]
  }
 ],
 "metadata": {
  "kernelspec": {
   "display_name": "Python 3",
   "language": "python",
   "name": "python3"
  },
  "language_info": {
   "codemirror_mode": {
    "name": "ipython",
    "version": 3
   },
   "file_extension": ".py",
   "mimetype": "text/x-python",
   "name": "python",
   "nbconvert_exporter": "python",
   "pygments_lexer": "ipython3",
   "version": "3.10.12"
  },
  "papermill": {
   "default_parameters": {},
   "duration": 4.702886,
   "end_time": "2023-11-05T06:49:23.477938",
   "environment_variables": {},
   "exception": null,
   "input_path": "__notebook__.ipynb",
   "output_path": "__notebook__.ipynb",
   "parameters": {},
   "start_time": "2023-11-05T06:49:18.775052",
   "version": "2.4.0"
  }
 },
 "nbformat": 4,
 "nbformat_minor": 5
}
